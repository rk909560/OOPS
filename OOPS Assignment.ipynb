{
 "cells": [
  {
   "cell_type": "code",
   "execution_count": null,
   "id": "a5f2fa49",
   "metadata": {},
   "outputs": [],
   "source": []
  },
  {
   "cell_type": "code",
   "execution_count": null,
   "id": "4b7ba85b",
   "metadata": {},
   "outputs": [],
   "source": [
    "# Q1 What is Object-Oriented Programming (OOP)?\n",
    "\n",
    "# Object Oriented Programming is based on the  concept of object. its a way of writing programme where we \n",
    "# think in terms of classes and objects."
   ]
  },
  {
   "cell_type": "code",
   "execution_count": null,
   "id": "5469425a",
   "metadata": {},
   "outputs": [],
   "source": []
  },
  {
   "cell_type": "code",
   "execution_count": null,
   "id": "eb8b875a",
   "metadata": {},
   "outputs": [],
   "source": [
    "# Q2 What is a class in OOP?\n",
    "# A class is like a blueprint in oop\n",
    "\n",
    "# its like if we want to make 1000 cars we donot design each class again and again.\n",
    "# we design one blueprint and then makes n number of objects from it"
   ]
  },
  {
   "cell_type": "code",
   "execution_count": 71,
   "id": "ed150fca",
   "metadata": {},
   "outputs": [],
   "source": [
    "# Q3 What is an object in OOP?\n",
    "# an object is an instance of a class. it contains the data of the class in the form of attributes and methods."
   ]
  },
  {
   "cell_type": "code",
   "execution_count": null,
   "id": "6d454a66",
   "metadata": {},
   "outputs": [],
   "source": [
    "# Q4 What is the difference between abstraction and encapsulation?\n",
    " \n",
    "# abstract classes in programming are used to create a common blueprint that other derived classes must follow\n",
    "# object of abstract class can not be made\n",
    "# Example ## Like a TV remote — you don’t need to know how it works inside, you just press buttons.\n",
    "\n",
    "\n",
    "# Encapsulation # means bundling of the data and functions of class\n",
    "# Encapsulation means wrapping data + methods together in a class, and protecting that data from direct outside access.\n",
    "# In other words, you hide the details inside the class, and only allow controlled access using methods\n",
    "\n",
    "# Abstraction focuses on hiding complexity from the user.\n",
    "\n",
    "# Encapsulation focuses on protecting the data inside the class."
   ]
  },
  {
   "cell_type": "code",
   "execution_count": null,
   "id": "039eeb4b",
   "metadata": {},
   "outputs": [],
   "source": [
    "# Q5 What are dunder methods in Python?\n",
    "\n",
    "# Dunder methods (also called magic methods or special methods) in Python are methods that have double underscores at \n",
    "# the beginning and end of their names, like __init__, __str__, __add__, etc.\n",
    "\n",
    "# class Num:\n",
    "#     def __init__(self,l1):   # Magic / Dunder Method \n",
    "#         self.l1=l1"
   ]
  },
  {
   "cell_type": "code",
   "execution_count": null,
   "id": "df3eca8d",
   "metadata": {},
   "outputs": [],
   "source": []
  },
  {
   "cell_type": "code",
   "execution_count": null,
   "id": "738d68dd",
   "metadata": {},
   "outputs": [],
   "source": [
    "# Q6 Explain the concept of inheritance in OOP\n",
    "\n",
    "# In OOPs inheritance means when child class or derived class inherits the properties of its parent class.\n",
    "# in short all the methods functions attributes of parents class can be accessed by child class"
   ]
  },
  {
   "cell_type": "code",
   "execution_count": null,
   "id": "0c62519e",
   "metadata": {},
   "outputs": [],
   "source": [
    "# Q7 What is polymorphism in OOP?\n",
    "\n",
    "# poly means many and morphism means form so in polymorphism same function acts differently upon calld by different objects\n",
    "#\n",
    "\n",
    "## Ploymorphisms in oops takes place via two methods :\n",
    "\n",
    "# Function overloading\n",
    "# FUnction Overriding"
   ]
  },
  {
   "cell_type": "code",
   "execution_count": 72,
   "id": "36f8c9fe",
   "metadata": {},
   "outputs": [],
   "source": [
    "# Q8 How is encapsulation achieved in Python?\n",
    "# # means we don't want to show user what is happening in the backend we just show him front end so we will hide everything\n",
    "# and show him clean front only\n",
    "\n",
    "# To achive encapsulation we use private variables which can be defined ad (__)\n",
    "\n",
    "# class BankAccount:\n",
    "#     def __init__(self,balance):\n",
    "#         self.__balance=balance  # Private variables"
   ]
  },
  {
   "cell_type": "code",
   "execution_count": null,
   "id": "19197ad7",
   "metadata": {},
   "outputs": [],
   "source": [
    "# Q9 What is a constructor in Python?\n",
    "\n",
    "# a constructor is a special method which automatically gets called when any new object of the class is created.\n",
    "# it initialises the attributes with default values\n",
    "\n",
    "def __init__(self,name,age):\n",
    "    self.name=name\n",
    "    self.age=age"
   ]
  },
  {
   "cell_type": "code",
   "execution_count": null,
   "id": "8784a20a",
   "metadata": {},
   "outputs": [],
   "source": [
    "# Q10 What are class and static methods in Python?\n",
    "\n",
    "# classmethod uses @classmethod decorator and takes cls as its parameter insted of self.\n",
    "# it can access and modify class variables \n",
    "# static method uses @statocmethod decorator and takes nothing as parameter\n",
    "# it can not directly modify class variable"
   ]
  },
  {
   "cell_type": "code",
   "execution_count": null,
   "id": "17be0e8f",
   "metadata": {},
   "outputs": [],
   "source": [
    "# Q11 What is method overloading in Python?\n",
    "\n",
    "# it means once we define a function and given its xyx arguments but again we redefined the same method with same name but \n",
    "# This time with different or add on arguments \n",
    "\n",
    "\n",
    "# Python does not truly support function overloading — it just takes the last defined version of a function.\n"
   ]
  },
  {
   "cell_type": "code",
   "execution_count": null,
   "id": "9732268b",
   "metadata": {},
   "outputs": [],
   "source": [
    "# Q12 What is method overriding in OOP?\n",
    "\n",
    "# Method overriding means when we define a function with the same name in parent class as well as derived class\n",
    "# the functionality of the function will be overridden by the function which is created in the child class\n",
    "\n",
    "class Fruit:\n",
    "    def fruit_info(self):\n",
    "        print(\"Mango is a Fruit, It has 4 legs hehe \")\n",
    "\n",
    "class Apple(Fruit):\n",
    "    def fruit_info(self):\n",
    "        print(\"Mango has no Legs man haha\")\n",
    "    def fruit_details(self):\n",
    "        print(\"But Mango can dance \")\n",
    "        \n",
    "f=Fruit()\n",
    "a=Apple()\n",
    "    \n"
   ]
  },
  {
   "cell_type": "code",
   "execution_count": null,
   "id": "a9424481",
   "metadata": {},
   "outputs": [],
   "source": [
    "# Q13 What is a property decorator in Python?\n",
    "\n",
    "# The property decorator in Python, written as @property, it is used to turn a method into a property. \n",
    "# it allows us to access a method like an attribute, without using parentheses.\n",
    "\n",
    "class Student:\n",
    "    def __init__(self, marks):\n",
    "        self._marks = marks\n",
    "\n",
    "    @property\n",
    "    def marks(self):\n",
    "        return self._marks"
   ]
  },
  {
   "cell_type": "code",
   "execution_count": null,
   "id": "78d5a85e",
   "metadata": {},
   "outputs": [],
   "source": [
    "# Q14 Why is polymorphism important in OOP?\n",
    "\n",
    "# in oops we can utilize the resuability of code with the help of classes. \n",
    "# so polymorphism allows the same function to be used in different classes with differnt functionality\n",
    "\n",
    "# For example, if you have a speak() method in a base class Animal, and subclasses like Dog and Cat override it \n",
    "# with their own versions, you can call speak() on any animal object without worrying about its exact type.# "
   ]
  },
  {
   "cell_type": "code",
   "execution_count": null,
   "id": "56d9ccfd",
   "metadata": {},
   "outputs": [],
   "source": [
    "# Q15 What is an abstract class in Python?\n",
    "\n",
    "# It provides a rulebook that guarantees certain features exist, but leaves the details to the children \n",
    "# (like Circle and Rectangle).\n",
    "\n",
    "# abstract classes doesn't have instances/object instead,\n",
    "## Classes derived from abstract class they create the object of it\n",
    "\n",
    "\n",
    "# like \n",
    "# Imagine you run a design company and tell all employees:\n",
    "#“Every new shape you make must have an area method.”\n",
    "#You do not care how they calculate it (circle, rectangle, triangle, etc.)"
   ]
  },
  {
   "cell_type": "code",
   "execution_count": null,
   "id": "864df0ee",
   "metadata": {},
   "outputs": [],
   "source": [
    "# Q16 What are the advantages of OOP?\n",
    "# reuseability of code is the most important advantage\n",
    "# Data security: Data is protected inside objects and cannot be changed directly from outside (encapsulation).\n",
    "\n",
    "# Programme is divided into classes and objects\n",
    "\n"
   ]
  },
  {
   "cell_type": "code",
   "execution_count": null,
   "id": "e01916d6",
   "metadata": {},
   "outputs": [],
   "source": [
    "# Q17 What is the difference between a class variable and an instance variable?\n",
    "\n",
    "# a class variable is shared by all the object of the class, a single change in class variable will make the changes in \n",
    "# all other object \n",
    "\n",
    "# A instance variable is unique to each object\n",
    "\n",
    "# like School name class variable\n",
    "#   student name instance variable"
   ]
  },
  {
   "cell_type": "code",
   "execution_count": null,
   "id": "1442e6a7",
   "metadata": {},
   "outputs": [],
   "source": [
    "# Q18 What is multiple inheritance in Python?\n",
    "\n",
    "# Means One child class can inhert the properties of Multiple parent classes\n",
    "\n",
    "class P1:\n",
    "    def parent1(self):\n",
    "        print(\"Inside parent 1 \")\n",
    "class P2:\n",
    "    def parent2(self):\n",
    "        print(\"Inside parent 2 \")\n",
    "        \n",
    "class Child(P1,P2):\n",
    "    def child(self):\n",
    "        print(\"Inside child \")"
   ]
  },
  {
   "cell_type": "raw",
   "id": "2de931a8",
   "metadata": {},
   "source": [
    "# Q19 Explain the purpose of __str__ and __repr__ methods in Python\n",
    "\n",
    "# The __str__ method is used to show a nice and clear description of an object when we print it. It is meant for normal users to read easily.\n",
    "\n",
    "# The __repr__ method is used to show a more detailed or technical description of the object, usually meant for programmers to debug."
   ]
  },
  {
   "cell_type": "code",
   "execution_count": null,
   "id": "fbfd851b",
   "metadata": {},
   "outputs": [],
   "source": [
    "# Q20 What is the significance of the `super()` function in Python?\n",
    "\n",
    "# Super() means parent class , i.e super() function in python helps us to re use the parent's class code without rewriting it.\n",
    "# it is used to call method from parent class.\n",
    "\n",
    "#Either we can use super().__init__ or parent_class_name.__init__\n"
   ]
  },
  {
   "cell_type": "code",
   "execution_count": null,
   "id": "7f16719e",
   "metadata": {},
   "outputs": [],
   "source": [
    "# Q21 What is the significance of the `__del__` method in Python?\n",
    "\n",
    "# __del__ method is known as destructor. its main objective is to clean up resources, It automatically gets called when an \n",
    "# object is about to get destroyed\n"
   ]
  },
  {
   "cell_type": "code",
   "execution_count": null,
   "id": "bc1cae37",
   "metadata": {},
   "outputs": [],
   "source": [
    "# Q22 What is the difference between @staticmethod and @classmethod in Python?\n",
    "\n",
    "# classmethod uses @classmethod decorator and takes cls as its parameter insted of self.\n",
    "# it can access and modify class variables \n",
    "\n",
    "# static method uses @statocmethod decorator and takes nothing as parameter\n",
    "# it can not directly modify class variable"
   ]
  },
  {
   "cell_type": "code",
   "execution_count": null,
   "id": "788cb871",
   "metadata": {},
   "outputs": [],
   "source": [
    "# Q23 How does polymorphism work in Python with inheritance?\n",
    "\n",
    "# means same method will work differently depending on which class is using it\n",
    "\n",
    "class Animal:\n",
    "    def speak(self):\n",
    "        print('Hi I have four legs')\n",
    "        \n",
    "        \n",
    "class Dog(Animal):\n",
    "    def speak(self):\n",
    "        print('Bark')\n",
    "        \n",
    "a=Animal()\n",
    "d=Dog()\n"
   ]
  },
  {
   "cell_type": "code",
   "execution_count": null,
   "id": "fe0cdb8b",
   "metadata": {},
   "outputs": [],
   "source": [
    "# Q24 What is method chaining in Python OOP?\n",
    "\n",
    "# it means calling multiple function on the same object that too one after another \n",
    "# car.start().accelerate().stop()\n"
   ]
  },
  {
   "cell_type": "code",
   "execution_count": null,
   "id": "e61bdc7a",
   "metadata": {},
   "outputs": [],
   "source": [
    "# Q25 What is the purpose of the `__call__` method in Python?\n",
    "\n",
    "# __call__ allows us to use objects as a function, it makes an object to behave like function \n",
    "\n",
    "# we can call object similar to function like in parenthesis"
   ]
  },
  {
   "cell_type": "code",
   "execution_count": null,
   "id": "d9ae2d95",
   "metadata": {},
   "outputs": [],
   "source": []
  },
  {
   "cell_type": "code",
   "execution_count": null,
   "id": "5d2ad567",
   "metadata": {},
   "outputs": [],
   "source": []
  },
  {
   "cell_type": "code",
   "execution_count": 4,
   "id": "02288fcc",
   "metadata": {},
   "outputs": [],
   "source": [
    "\n",
    "# 1. Create a parent class Animal with a method speak() that prints a generic message. Create a child class Dog\n",
    "# that overrides the speak() method to print \"Bark!\".\n",
    "\n",
    "\n",
    "\n",
    "class Animal:\n",
    "    def speak(self):\n",
    "        print('Hi I have four legs')\n",
    "        \n",
    "        \n",
    "class Dog(Animal):\n",
    "    def speak(self):\n",
    "        print('Bark')\n",
    "        \n",
    "a=Animal()\n",
    "d=Dog()"
   ]
  },
  {
   "cell_type": "code",
   "execution_count": 5,
   "id": "46db92d2",
   "metadata": {},
   "outputs": [
    {
     "name": "stdout",
     "output_type": "stream",
     "text": [
      "Hi I have four legs\n"
     ]
    }
   ],
   "source": [
    "a.speak()"
   ]
  },
  {
   "cell_type": "code",
   "execution_count": 6,
   "id": "43dce8af",
   "metadata": {},
   "outputs": [
    {
     "name": "stdout",
     "output_type": "stream",
     "text": [
      "Bark\n"
     ]
    }
   ],
   "source": [
    "d.speak()"
   ]
  },
  {
   "cell_type": "code",
   "execution_count": 68,
   "id": "50da42c9",
   "metadata": {},
   "outputs": [],
   "source": [
    "# 2. Write a program to create an abstract class Shape with a method area(). Derive classes Circle and Rectangle\n",
    "# from it and implement the area() method in both.\n",
    "\n",
    "\n",
    "import abc\n",
    "\n",
    "class Shape(abc.ABC):\n",
    "    @abc.abstractmethod\n",
    "    def area(self):\n",
    "        pass\n",
    "    \n",
    "\n",
    "class Circle(Shape):\n",
    "    def area(self,r):\n",
    "        return (3.14*r*r)\n",
    "    \n",
    "class Rectangle(Shape):\n",
    "        def area(self,l,b):\n",
    "            return (l*b)\n",
    "            \n",
    "\n",
    "    \n",
    "c=Circle()\n",
    "r=Rectangle()"
   ]
  },
  {
   "cell_type": "code",
   "execution_count": 69,
   "id": "001d349b",
   "metadata": {},
   "outputs": [
    {
     "data": {
      "text/plain": [
       "1962.5"
      ]
     },
     "execution_count": 69,
     "metadata": {},
     "output_type": "execute_result"
    }
   ],
   "source": [
    "c.area(25)"
   ]
  },
  {
   "cell_type": "code",
   "execution_count": 70,
   "id": "161d339b",
   "metadata": {},
   "outputs": [
    {
     "data": {
      "text/plain": [
       "600"
      ]
     },
     "execution_count": 70,
     "metadata": {},
     "output_type": "execute_result"
    }
   ],
   "source": [
    "r.area(30,20)"
   ]
  },
  {
   "cell_type": "code",
   "execution_count": null,
   "id": "6c143745",
   "metadata": {},
   "outputs": [],
   "source": []
  },
  {
   "cell_type": "code",
   "execution_count": 27,
   "id": "9011b065",
   "metadata": {},
   "outputs": [
    {
     "name": "stdout",
     "output_type": "stream",
     "text": [
      "This is the Vehicle class with its type attribute.\n",
      "This is the Car class, inheriting Vehicle properties.\n",
      "This is the ElectricCar class, inheriting Car and Vehicle properties, with added battery attribute.\n"
     ]
    }
   ],
   "source": [
    "# 3. Implement a multi-level inheritance scenario where a class Vehicle has an attribute type. Derive a class Car\n",
    "# and further derive a class ElectricCar that adds a battery attribute.\n",
    "\n",
    "# class Vehicle:\n",
    "#     def __init__(self,types,Battery):\n",
    "#         self.types=types\n",
    "#         self.Battery=Battery\n",
    "        \n",
    "#     def type(self):\n",
    "#         print(\"Inside Vehicle Class \")\n",
    "    \n",
    "# class Car(Vehicle,types):\n",
    "#     print(\"Type of vehicle is  \",types)\n",
    "\n",
    "# class Electriccar(Car,Battery):\n",
    "#     print(\"Battery is of f'{Battery}' mah \")\n",
    "    \n",
    "# ec=Electriccar(5000)\n",
    "\n",
    "\n",
    "\n",
    "\n",
    "\n",
    "\n",
    "class Vehicle:\n",
    "    def vehicle_type(self):\n",
    "        print(\"This is the Vehicle class with its type attribute.\")\n",
    "        \n",
    "class Car(Vehicle):\n",
    "    def car_details(self):\n",
    "        print(\"This is the Car class, inheriting Vehicle properties.\")\n",
    "        \n",
    "class ElectricCar(Car):\n",
    "    def battery_info(self):\n",
    "        print(\"This is the ElectricCar class, inheriting Car and Vehicle properties, with added battery attribute.\")\n",
    "\n",
    "ec = ElectricCar()\n",
    "\n",
    "\n",
    "ec.vehicle_type()\n",
    "ec.car_details()\n",
    "ec.battery_info()\n"
   ]
  },
  {
   "cell_type": "code",
   "execution_count": null,
   "id": "368e9444",
   "metadata": {},
   "outputs": [],
   "source": []
  },
  {
   "cell_type": "code",
   "execution_count": 29,
   "id": "f03f7ade",
   "metadata": {},
   "outputs": [
    {
     "name": "stdout",
     "output_type": "stream",
     "text": [
      "Bird can fly high\n",
      "Sparrow is a Bird and can fligh high too\n",
      "Penguin can not fly\n"
     ]
    }
   ],
   "source": [
    "# 4. Demonstrate polymorphism by creating a base class Bird with a method fly(). Create two derived classes\n",
    "# Sparrow and Penguin that override the fly() method.\n",
    "\n",
    "\n",
    "\n",
    "class Bird:\n",
    "    def fly(self):\n",
    "        print(\"Bird can fly high\")\n",
    "        \n",
    "class Sparrow(Bird):\n",
    "    def fly(self):\n",
    "        print(\"Sparrow is a Bird and can fligh high too\")\n",
    "        \n",
    "class Penguin(Bird):\n",
    "    def fly(self):\n",
    "        print(\"Penguin can not fly\")\n",
    "        \n",
    "b=Bird()\n",
    "s=Sparrow()\n",
    "p=Penguin()\n",
    "\n",
    "b.fly()\n",
    "s.fly()\n",
    "p.fly()"
   ]
  },
  {
   "cell_type": "code",
   "execution_count": null,
   "id": "ea347b44",
   "metadata": {},
   "outputs": [],
   "source": []
  },
  {
   "cell_type": "code",
   "execution_count": 36,
   "id": "ca7dd5eb",
   "metadata": {},
   "outputs": [
    {
     "name": "stdout",
     "output_type": "stream",
     "text": [
      "Deposited amount is 100 and current balance is 5100\n",
      "Withdrawl made is of rs 1000 and current balance is 4100 \n",
      "current balance is 4100\n"
     ]
    }
   ],
   "source": [
    "# 5. Write a program to demonstrate encapsulation by creating a class BankAccount with private attributes balance \n",
    "# and methods to deposit, withdraw, and check balance.\n",
    "\n",
    "class BankAccount:\n",
    "    def __init__(self,balance):\n",
    "        self.__balance=balance  ## Making balance as private variable\n",
    "        \n",
    "    def deposit(self,amount):\n",
    "        if amount>0:\n",
    "            self.__balance+=amount\n",
    "            print(f\"Deposited amount is {amount} and current balance is {self.__balance}\")\n",
    "            \n",
    "    def withdraw(self,amount):\n",
    "        if amount>0:\n",
    "            self.__balance-=amount\n",
    "            print(f\"Withdrawl made is of rs {amount} and current balance is {self.__balance} \")\n",
    "    def check_balance(self):\n",
    "        print(f\"current balance is {self.__balance}\")\n",
    "        \n",
    "ba=BankAccount(5000)\n",
    "ba.deposit(100)\n",
    "ba.withdraw(1000)\n",
    "ba.check_balance()\n",
    "\n",
    "\n",
    "# data hiding (__balance)\n",
    "\n",
    "# controlled access via methods\n",
    "\n",
    "# no direct modification from outside"
   ]
  },
  {
   "cell_type": "code",
   "execution_count": null,
   "id": "24616cee",
   "metadata": {},
   "outputs": [],
   "source": []
  },
  {
   "cell_type": "code",
   "execution_count": 37,
   "id": "c8b03f6d",
   "metadata": {},
   "outputs": [],
   "source": [
    "# 6. Demonstrate runtime polymorphism using a method play() in a base class Instrument. Derive classes Guitar\n",
    "# and Piano that implement their own version of play().\n",
    "\n",
    "class Insturment:\n",
    "    def play(self):\n",
    "        print('inside Instrument class')\n",
    "        \n",
    "        \n",
    "class Guitar(Insturment):\n",
    "    def play(self):\n",
    "        print(\"Inside Guitar class \")\n",
    "        \n",
    "        \n",
    "class Piano(Insturment):\n",
    "    def play(self):\n",
    "        print(\"Inside Piano class \")\n",
    "        \n",
    "\n",
    "i=Insturment()\n",
    "g=Guitar()\n",
    "p=Piano()\n",
    "\n"
   ]
  },
  {
   "cell_type": "code",
   "execution_count": 40,
   "id": "0cb9def4",
   "metadata": {},
   "outputs": [
    {
     "name": "stdout",
     "output_type": "stream",
     "text": [
      "inside Instrument class\n",
      "Inside Guitar class \n",
      "Inside Piano class \n"
     ]
    }
   ],
   "source": [
    "i.play()\n",
    "g.play()\n",
    "p.play()"
   ]
  },
  {
   "cell_type": "code",
   "execution_count": 42,
   "id": "1aac16ea",
   "metadata": {},
   "outputs": [
    {
     "name": "stdout",
     "output_type": "stream",
     "text": [
      "inside Instrument class\n",
      "Inside Guitar class \n",
      "Inside Piano class \n"
     ]
    }
   ],
   "source": [
    "var=[i,g,p]\n",
    "\n",
    "for obj in var:\n",
    "    obj.play()"
   ]
  },
  {
   "cell_type": "code",
   "execution_count": 1,
   "id": "b2f69c50",
   "metadata": {},
   "outputs": [],
   "source": [
    "# Python will decide at runtime which play() to call based on the actual object:\n",
    "# Instrument object → its own play()\n",
    "# Guitar object → its overridden play()\n",
    "# Piano object → its overridden play()\n",
    "\n"
   ]
  },
  {
   "cell_type": "code",
   "execution_count": null,
   "id": "bc08ff09",
   "metadata": {},
   "outputs": [],
   "source": []
  },
  {
   "cell_type": "code",
   "execution_count": 13,
   "id": "7fe31534",
   "metadata": {},
   "outputs": [],
   "source": [
    "# 7. Create a class MathOperations with a class method add_numbers() to add two numbers and a static\n",
    "# method subtract_numbers() to subtract two numbers.\n",
    "\n",
    "class MathOperation:\n",
    "    @classmethod\n",
    "    def add_numbers(cls,a,b):\n",
    "        return a+b\n",
    "    @staticmethod\n",
    "    def subtract_numbers(a,b):\n",
    "        return a-b\n",
    "    "
   ]
  },
  {
   "cell_type": "code",
   "execution_count": 14,
   "id": "dae31179",
   "metadata": {},
   "outputs": [
    {
     "data": {
      "text/plain": [
       "80"
      ]
     },
     "execution_count": 14,
     "metadata": {},
     "output_type": "execute_result"
    }
   ],
   "source": [
    "MathOperation.add_numbers(20,60)"
   ]
  },
  {
   "cell_type": "code",
   "execution_count": 15,
   "id": "ff54c1e0",
   "metadata": {},
   "outputs": [
    {
     "data": {
      "text/plain": [
       "50"
      ]
     },
     "execution_count": 15,
     "metadata": {},
     "output_type": "execute_result"
    }
   ],
   "source": [
    "MathOperation.subtract_numbers(100,50)"
   ]
  },
  {
   "cell_type": "code",
   "execution_count": null,
   "id": "f840c4fa",
   "metadata": {},
   "outputs": [],
   "source": []
  },
  {
   "cell_type": "code",
   "execution_count": 20,
   "id": "b18fbe94",
   "metadata": {},
   "outputs": [],
   "source": [
    "#8. Implement a class Person with a class method to count the total number of persons created.\n",
    "\n",
    "class Person:\n",
    "    count=0\n",
    "    \n",
    "    def __init__(self):\n",
    "        Person.count+=1\n",
    "        \n",
    "    @classmethod\n",
    "    def total_counts(cls):\n",
    "        return cls.count\n",
    "    \n",
    "p1=Person()"
   ]
  },
  {
   "cell_type": "code",
   "execution_count": 22,
   "id": "8634f123",
   "metadata": {},
   "outputs": [],
   "source": [
    "p2=Person()"
   ]
  },
  {
   "cell_type": "code",
   "execution_count": 23,
   "id": "cbd0a00b",
   "metadata": {},
   "outputs": [
    {
     "name": "stdout",
     "output_type": "stream",
     "text": [
      "2\n"
     ]
    }
   ],
   "source": [
    "print(Person.total_counts())"
   ]
  },
  {
   "cell_type": "code",
   "execution_count": null,
   "id": "32a5e629",
   "metadata": {},
   "outputs": [],
   "source": []
  },
  {
   "cell_type": "code",
   "execution_count": 32,
   "id": "b5ab143d",
   "metadata": {},
   "outputs": [],
   "source": [
    "#9. Write a class Fraction with attributes numerator and denominator. Override the str method to display the\n",
    "# fraction as \"numerator/denominator\".\n",
    "\n",
    "\n",
    "class Fraction:\n",
    "    def __init__(self,numerator,denominator):\n",
    "        self.numerator=numerator\n",
    "        self.denominator=denominator\n",
    "    \n",
    "    def __str__(self):\n",
    "        return f\"{self.numerator} / {self.denominator}\"\n",
    "    \n",
    "f=Fraction(5,10)\n"
   ]
  },
  {
   "cell_type": "code",
   "execution_count": 33,
   "id": "5f17315c",
   "metadata": {},
   "outputs": [
    {
     "name": "stdout",
     "output_type": "stream",
     "text": [
      "5 / 10\n"
     ]
    }
   ],
   "source": [
    "print(f)"
   ]
  },
  {
   "cell_type": "code",
   "execution_count": null,
   "id": "0fd1c197",
   "metadata": {},
   "outputs": [],
   "source": []
  },
  {
   "cell_type": "code",
   "execution_count": 9,
   "id": "819fec5d",
   "metadata": {},
   "outputs": [],
   "source": [
    "# 10. Demonstrate operator overloading by creating a class Vector and overriding the add method to add two\n",
    "# vectors.\n",
    "\n",
    "class Vector:\n",
    "    def __init__(self,x,y):\n",
    "        self.x=x\n",
    "        self.y=y\n",
    "        \n",
    "    def __add__(self,other):\n",
    "        new_x=self.x + other.x\n",
    "        new_y=self.y + other.y\n",
    "        return Vector(new_x,new_y)\n",
    "\n",
    "    def __str__(self):\n",
    "        return f\"({self.x}, {self.y})\"\n",
    "    \n",
    "v1=Vector(2,4)\n",
    "v2=Vector(4,6)\n",
    "\n",
    "v3=v1+v2"
   ]
  },
  {
   "cell_type": "code",
   "execution_count": 11,
   "id": "6c3bd68e",
   "metadata": {},
   "outputs": [
    {
     "name": "stdout",
     "output_type": "stream",
     "text": [
      "(6, 10)\n"
     ]
    }
   ],
   "source": [
    "print(v3)"
   ]
  },
  {
   "cell_type": "code",
   "execution_count": 15,
   "id": "1e353adb",
   "metadata": {},
   "outputs": [
    {
     "name": "stdout",
     "output_type": "stream",
     "text": [
      "Hello, my name is Rohit and I am 27 years old\n"
     ]
    }
   ],
   "source": [
    "# 11. Create a class Person with attributes name and age. Add a method greet() that prints \"Hello, my name is\n",
    "# {name} and I am {age} years old.\"\n",
    "\n",
    "class Person:\n",
    "    def __init__(self,name,age):\n",
    "        self.name=name\n",
    "        self.age=age\n",
    "        \n",
    "    def greet(self):\n",
    "        print(f\"Hello, my name is {self.name} and I am {self.age} years old\")\n",
    "        \n",
    "p=Person(\"Rohit\",27)\n",
    "p.greet()"
   ]
  },
  {
   "cell_type": "code",
   "execution_count": null,
   "id": "1b712d29",
   "metadata": {},
   "outputs": [],
   "source": []
  },
  {
   "cell_type": "code",
   "execution_count": 17,
   "id": "19a3c2c3",
   "metadata": {},
   "outputs": [
    {
     "data": {
      "text/plain": [
       "77.4"
      ]
     },
     "execution_count": 17,
     "metadata": {},
     "output_type": "execute_result"
    }
   ],
   "source": [
    "# 12. Implement a class Student with attributes name and grades. Create a method average_grade() to compute\n",
    "# the average of the grades.\n",
    "\n",
    "class Student:\n",
    "    def __init__(self,name,grades):\n",
    "        self.name=name\n",
    "        self.grades=grades\n",
    "        \n",
    "    def average_grade(self):\n",
    "        return sum(self.grades)/ len(self.grades)\n",
    "    \n",
    "s=Student(\"Rohit\",[62,80,88,89,68])\n",
    "s.average_grade()        "
   ]
  },
  {
   "cell_type": "code",
   "execution_count": 20,
   "id": "ada6ed52",
   "metadata": {},
   "outputs": [
    {
     "data": {
      "text/plain": [
       "35"
      ]
     },
     "execution_count": 20,
     "metadata": {},
     "output_type": "execute_result"
    }
   ],
   "source": [
    "# 13. Create a class Rectangle with methods set_dimensions() to set the dimensions and area() to calculate the\n",
    "# area.\n",
    "\n",
    "class Rectangle:\n",
    "    def __init__(self,l,b):\n",
    "        self.l=l\n",
    "        self.b=b\n",
    "    \n",
    "    def set_dimentions(self,l,b):\n",
    "        self.l=l\n",
    "        self.b=b\n",
    "        \n",
    "        \n",
    "    def area(self):\n",
    "        return self.l * self.b\n",
    "    \n",
    "r=Rectangle(7,5)\n",
    "r.area()"
   ]
  },
  {
   "cell_type": "code",
   "execution_count": 22,
   "id": "16cc0505",
   "metadata": {},
   "outputs": [
    {
     "data": {
      "text/plain": [
       "50"
      ]
     },
     "execution_count": 22,
     "metadata": {},
     "output_type": "execute_result"
    }
   ],
   "source": [
    "r.set_dimentions(5,10)\n",
    "r.area()"
   ]
  },
  {
   "cell_type": "code",
   "execution_count": null,
   "id": "04bedb19",
   "metadata": {},
   "outputs": [],
   "source": []
  },
  {
   "cell_type": "code",
   "execution_count": 32,
   "id": "7ea9d541",
   "metadata": {},
   "outputs": [
    {
     "name": "stdout",
     "output_type": "stream",
     "text": [
      "AMount without Bonus is  4500\n",
      "AMount with Bonus is  9500\n"
     ]
    }
   ],
   "source": [
    "# 14. Create a class Employee with a method calculate_salary() that computes the salary based on hours worked\n",
    "# and hourly rate. Create a derived class Manager that adds a bonus to the salary\n",
    "\n",
    "\n",
    "class Employee:\n",
    "    def __init__(self,hours_worked,hourly_rate):\n",
    "        self.hours_worked = hours_worked\n",
    "        self.hourly_rate = hourly_rate\n",
    "        \n",
    "    def calculate_salary(self):\n",
    "        return self.hours_worked * self.hourly_rate\n",
    "    \n",
    "class Manager(Employee):\n",
    "    def __init__(self,hours_worked,hourly_rate,bonus):\n",
    "        super().__init__(hours_worked,hourly_rate)\n",
    "        self.bonus=bonus\n",
    "    \n",
    "    def calculate_salary(self):\n",
    "        base_salary=super().calculate_salary()\n",
    "        return base_salary + self.bonus\n",
    "    \n",
    "e=Employee(9,500)\n",
    "print(\"AMount without Bonus is \", e.calculate_salary())\n",
    "\n",
    "m=Manager(9,500,5000)\n",
    "print(\"AMount with Bonus is \",m.calculate_salary())\n"
   ]
  },
  {
   "cell_type": "code",
   "execution_count": null,
   "id": "465ee620",
   "metadata": {},
   "outputs": [],
   "source": []
  },
  {
   "cell_type": "code",
   "execution_count": 34,
   "id": "ae2e3652",
   "metadata": {},
   "outputs": [
    {
     "data": {
      "text/plain": [
       "5000"
      ]
     },
     "execution_count": 34,
     "metadata": {},
     "output_type": "execute_result"
    }
   ],
   "source": [
    "# 15. Create a class Product with attributes name, price, and quantity. Implement a method total_price() that\n",
    "# calculates the total price of the product.\n",
    "\n",
    "class Product:\n",
    "    def __init__(self,name,price,quantity):\n",
    "        self.name=name\n",
    "        self.price=price\n",
    "        self.quantity=quantity\n",
    "        \n",
    "    def total_price(self):\n",
    "        return self.price * self.quantity\n",
    "    \n",
    "\n",
    "p=Product(\"rice\",50,100)\n",
    "p.total_price()\n",
    "\n",
    "        "
   ]
  },
  {
   "cell_type": "code",
   "execution_count": null,
   "id": "424f7f31",
   "metadata": {},
   "outputs": [],
   "source": []
  },
  {
   "cell_type": "code",
   "execution_count": 58,
   "id": "2ff8a11d",
   "metadata": {},
   "outputs": [],
   "source": [
    "# 16. Create a class Animal with an abstract method sound(). Create two derived classes Cow and Sheep that\n",
    "# implement the sound() method.\n",
    "import abc\n",
    "\n",
    "class Animal(abc.ABC):\n",
    "    @abc.abstractmethod\n",
    "    def sound(self):\n",
    "        pass\n",
    "    \n",
    "class Cow(Animal):\n",
    "    def sound(self):\n",
    "        return \"I am inside Cow Class\"\n",
    "class Sheep(Animal):\n",
    "    def sound(self):\n",
    "        return \"I am inside Sheep class\"\n",
    "    \n",
    "c=Cow()\n",
    "s=Sheep()\n",
    "    "
   ]
  },
  {
   "cell_type": "code",
   "execution_count": 59,
   "id": "b5280622",
   "metadata": {},
   "outputs": [
    {
     "data": {
      "text/plain": [
       "'I am inside Cow Class'"
      ]
     },
     "execution_count": 59,
     "metadata": {},
     "output_type": "execute_result"
    }
   ],
   "source": [
    "c.sound()"
   ]
  },
  {
   "cell_type": "code",
   "execution_count": 60,
   "id": "1d432a88",
   "metadata": {},
   "outputs": [
    {
     "data": {
      "text/plain": [
       "'I am inside Sheep class'"
      ]
     },
     "execution_count": 60,
     "metadata": {},
     "output_type": "execute_result"
    }
   ],
   "source": [
    "s.sound()"
   ]
  },
  {
   "cell_type": "code",
   "execution_count": null,
   "id": "665483c7",
   "metadata": {},
   "outputs": [],
   "source": []
  },
  {
   "cell_type": "code",
   "execution_count": 63,
   "id": "52306a0d",
   "metadata": {},
   "outputs": [
    {
     "name": "stdout",
     "output_type": "stream",
     "text": [
      "Book Titile is : Hear Your Self its Author is Mr. Prem Rawat and Publishing year is 2023\n"
     ]
    }
   ],
   "source": [
    "# 17. Create a class Book with attributes title, author, and year_published. Add a method get_book_info() that\n",
    "# returns a formatted string with the book's details.\n",
    "\n",
    "\n",
    "class Book:\n",
    "    def __init__(self,title,author,year_published):\n",
    "        self.title=title\n",
    "        self.author=author\n",
    "        self.year_published=year_published\n",
    "        \n",
    "    def get_book_info(self):\n",
    "        return f\"Book Titile is : {self.title} its Author is {self.author} and Publishing year is {self.year_published}\"\n",
    "    \n",
    "b=Book('Hear Your Self','Mr. Prem Rawat',2023)\n",
    "print(b.get_book_info())"
   ]
  },
  {
   "cell_type": "code",
   "execution_count": 64,
   "id": "82661bd9",
   "metadata": {},
   "outputs": [
    {
     "name": "stdout",
     "output_type": "stream",
     "text": [
      "ABC New Delhi\n",
      "50000000\n",
      "20\n"
     ]
    }
   ],
   "source": [
    "# 18. Create a class House with attributes address and price. Create a derived class Mansion that adds an\n",
    "# attribute number_of_rooms\n",
    "\n",
    "class House:\n",
    "    def __init__(self,address,price):\n",
    "        self.address=address\n",
    "        self.price=price\n",
    "        \n",
    "class Mansion(House):\n",
    "    def __init__(self,address,price,number_of_rooms):\n",
    "        super().__init__(address,price)\n",
    "        self.number_of_rooms=number_of_rooms\n",
    "        \n",
    "\n",
    "m = Mansion(\"ABC New Delhi\", 50000000, 20)\n",
    "print(m.address)\n",
    "print(m.price)\n",
    "print(m.number_of_rooms)"
   ]
  },
  {
   "cell_type": "code",
   "execution_count": null,
   "id": "a57e048c",
   "metadata": {},
   "outputs": [],
   "source": []
  }
 ],
 "metadata": {
  "kernelspec": {
   "display_name": "Python 3 (ipykernel)",
   "language": "python",
   "name": "python3"
  },
  "language_info": {
   "codemirror_mode": {
    "name": "ipython",
    "version": 3
   },
   "file_extension": ".py",
   "mimetype": "text/x-python",
   "name": "python",
   "nbconvert_exporter": "python",
   "pygments_lexer": "ipython3",
   "version": "3.9.12"
  }
 },
 "nbformat": 4,
 "nbformat_minor": 5
}
